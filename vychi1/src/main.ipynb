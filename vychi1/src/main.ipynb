{
 "cells": [
  {
   "cell_type": "markdown",
   "metadata": {},
   "source": [
    "# Численные методы решения нелинейных уравнений\n",
    "Исходные параметры:"
   ]
  },
  {
   "cell_type": "code",
   "execution_count": 1,
   "metadata": {
    "vscode": {
     "languageId": "ocaml"
    }
   },
   "outputs": [
    {
     "name": "stderr",
     "output_type": "stream",
     "text": [
      "File \"/home/cy/Desktop/ocaml-rep/vychi/vychi1/src/root_eval.ml\", line 102, characters 22-35\n",
      "Parse error: [fun_binding] expected after [ipatt] (in [let_binding])\n",
      "Uncaught exception:\n",
      "  \n",
      "  Exit\n",
      "\n",
      "Raised at Top.wrap in file \"camlp4/Camlp4Top/Top.ml\", line 61, characters 8-18\n",
      "Called from Toploop.use_lexbuf.(fun) in file \"toplevel/toploop.ml\", line 48, characters 11-29\n",
      "Re-raised at Location.report_exception.loop in file \"parsing/location.ml\", line 938, characters 14-25\n",
      "Called from Toploop.use_lexbuf.(fun) in file \"toplevel/toploop.ml\", line 53, characters 11-42\n",
      "Called from Stdlib__Fun.protect in file \"fun.ml\", line 33, characters 8-15\n",
      "Re-raised at Stdlib__Fun.protect in file \"fun.ml\", line 38, characters 6-52\n",
      "Called from Misc.try_finally in file \"utils/misc.ml\", line 31, characters 8-15\n",
      "Re-raised at Misc.try_finally in file \"utils/misc.ml\", line 45, characters 10-56\n",
      "Called from Topdirs.dir_use in file \"toplevel/topdirs.ml\", line 159, characters 21-64\n",
      "Called from Topcommon.try_run_directive in file \"toplevel/topcommon.ml\", line 336, characters 65-68\n",
      "Called from Topeval.execute_phrase in file \"toplevel/byte/topeval.ml\", line 177, characters 6-42\n",
      "Re-raised at Topeval.execute_phrase in file \"toplevel/byte/topeval.ml\", line 180, characters 4-13\n",
      "Called from Jupyter_repl__Evaluation.eval_phrase in file \"evaluation.cppo.ml\", line 92, characters 14-60\n",
      "Called from Jupyter_repl__Evaluation.eval.loop in file \"evaluation.cppo.ml\", line 102, characters 12-40\n",
      "Called from Jupyter_repl__Evaluation.eval in file \"evaluation.cppo.ml\", line 115, characters 4-56\n",
      "Re-raised at Location.report_exception.loop in file \"parsing/location.ml\", line 938, characters 14-25\n",
      "Called from Jupyter_repl__Error.to_string_hum in file \"error.cppo.ml\", line 147, characters 2-29\n",
      "Called from Jupyter_repl__Evaluation.eval in file \"evaluation.cppo.ml\", line 121, characters 14-62\n",
      "Called from Jupyter_repl__Process.create_child_process.main_loop in file \"jupyter/src/repl/process.ml\", line 73, characters 8-80\n",
      "Called from Jupyter_main in file \"jupyter/bin/jupyter_main.ml\", line 47, characters 4-149\n"
     ]
    },
    {
     "name": "stdout",
     "output_type": "stream",
     "text": [
      "Raised at Stdlib.invalid_arg in file \"stdlib.ml\", line 30, characters 20-45\n",
      "Called from Toploop in file \"toplevel/toploop.ml\", line 141, characters 2-44\n",
      "Called from Topeval.load_compunit in file \"toplevel/byte/topeval.ml\", line 225, characters 11-23\n"
     ]
    }
   ],
   "source": [
    "#require \"base\";;\n",
    "#use \"/home/cy/Desktop/ocaml-rep/vychi/vychi1/src/root_eval.ml\";;"
   ]
  }
 ],
 "metadata": {
  "kernelspec": {
   "display_name": "OCaml 4.14.0",
   "language": "OCaml",
   "name": "ocaml-jupyter"
  },
  "language_info": {
   "codemirror_mode": "text/x-ocaml",
   "file_extension": ".ml",
   "mimetype": "text/x-ocaml",
   "name": "OCaml",
   "nbconverter_exporter": null,
   "pygments_lexer": "OCaml",
   "version": "4.14.0"
  }
 },
 "nbformat": 4,
 "nbformat_minor": 2
}
