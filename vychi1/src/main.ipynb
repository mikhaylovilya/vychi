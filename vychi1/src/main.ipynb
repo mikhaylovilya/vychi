{
 "cells": [
  {
   "cell_type": "markdown",
   "metadata": {},
   "source": [
    "# Численные методы решения нелинейных уравнений\n",
    "Исходные параметры:"
   ]
  },
  {
   "cell_type": "code",
   "execution_count": 22,
   "metadata": {
    "vscode": {
     "languageId": "ocaml"
    }
   },
   "outputs": [
    {
     "ename": "error",
     "evalue": "compile_error",
     "output_type": "error",
     "traceback": [
      "File \"[22]\", line 2, characters 5-9:\n2 | open Eval\n         ^^^^\nError: Unbound module Eval\n"
     ]
    }
   ],
   "source": [
    "#load \"/home/cy/Desktop/ocaml-rep/vychi/vychi1/_build/default/src/.root_eval.objs/byte/root_eval.cmo\";;\n"
   ]
  }
 ],
 "metadata": {
  "kernelspec": {
   "display_name": "OCaml 4.14.0",
   "language": "OCaml",
   "name": "ocaml-jupyter"
  },
  "language_info": {
   "codemirror_mode": "text/x-ocaml",
   "file_extension": ".ml",
   "mimetype": "text/x-ocaml",
   "name": "OCaml",
   "nbconverter_exporter": null,
   "pygments_lexer": "OCaml",
   "version": "4.14.0"
  }
 },
 "nbformat": 4,
 "nbformat_minor": 2
}
